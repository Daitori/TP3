{
 "cells": [
  {
   "cell_type": "code",
   "execution_count": null,
   "id": "b88c419b-5c01-472b-b5b4-cc31c41efc32",
   "metadata": {},
   "outputs": [],
   "source": [
    "\"\"\"\n",
    "Exercice 1\n",
    "Qu'est-ce qu'un service web ?\n",
    "Il permet la communication entre différentes applications ayant des différents langage de programmation\n",
    "\n",
    "Une API REST, qu'est-ce que c'est ?\n",
    "Une API REST est une interface de programmation applicative (API,Application Programming Interface) respectant \n",
    "le style d'architecture REST (Representational State Transfer) \n",
    "\n",
    "Qu'est ce qu'une FastAPI?\n",
    "Une FastAPI est un framework(ie. environnement de développement) permettant la création d'API.\n",
    "\"\"\""
   ]
  },
  {
   "cell_type": "code",
   "execution_count": null,
   "id": "04a1a808-5c08-4dd9-977a-19546acf57de",
   "metadata": {},
   "outputs": [],
   "source": []
  }
 ],
 "metadata": {
  "kernelspec": {
   "display_name": "Python 3 (ipykernel)",
   "language": "python",
   "name": "python3"
  },
  "language_info": {
   "codemirror_mode": {
    "name": "ipython",
    "version": 3
   },
   "file_extension": ".py",
   "mimetype": "text/x-python",
   "name": "python",
   "nbconvert_exporter": "python",
   "pygments_lexer": "ipython3",
   "version": "3.10.2"
  }
 },
 "nbformat": 4,
 "nbformat_minor": 5
}
